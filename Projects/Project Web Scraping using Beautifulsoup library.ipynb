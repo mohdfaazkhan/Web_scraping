{
 "cells": [
  {
   "cell_type": "code",
   "execution_count": 1,
   "id": "27c8a6e0",
   "metadata": {},
   "outputs": [
    {
     "name": "stdout",
     "output_type": "stream",
     "text": [
      "              Unnamed: 0                                                  0\n",
      "0                  title                                        Toy Story 3\n",
      "1            Directed by                                        Lee Unkrich\n",
      "2          Screenplay by                                      Michael Arndt\n",
      "3               Story by  ['John Lasseter', 'Andrew Stanton', 'Lee Unkri...\n",
      "4            Produced by                                  Darla K. Anderson\n",
      "5               Starring  ['Tom Hanks', 'Tim Allen', 'Joan Cusack', 'Don...\n",
      "6         Cinematography                      ['Jeremy Lasky', 'Kim White']\n",
      "7              Edited by                                    Ken Schretzmann\n",
      "8               Music by                                       Randy Newman\n",
      "9   Production companies  ['Walt Disney Pictures', 'Pixar Animation Stud...\n",
      "10        Distributed by                Walt Disney Studios Motion Pictures\n",
      "11         Release dates  ['June 12, 2010 ( 2010-06-12 ) ( Taormina Film...\n",
      "12          Running time                                    103 minutes [1]\n",
      "13               Country                                      United States\n",
      "14              Language                                            English\n",
      "15                Budget                                   $200 million [1]\n",
      "16            Box office                                 $1.067 billion [1]\n"
     ]
    }
   ],
   "source": [
    "from bs4 import BeautifulSoup as bs\n",
    "import requests\n",
    "# Load the webpage.\n",
    "r = requests.get(\"https://en.wikipedia.org/wiki/Toy_Story_3\")\n",
    " #Convert to a Beautiful Soup Object.\n",
    "soup = bs(r.content,\"html.parser\")\n",
    "# Print out the HTML.\n",
    "contents = soup.prettify()\n",
    "#print(contents)\n",
    "info_box = soup.find(class_=\"infobox vevent\")\n",
    "#print(info_box.prettify())\n",
    "#print(info_box.get_text())\n",
    "\n",
    "# Grabing Tables & Rows. \n",
    "info_rows = info_box.find_all(\"tr\")\n",
    "for row in info_rows:\n",
    "  text_row = row.get_text()\n",
    "#print(text_row)\n",
    "#print(row.prettify())\n",
    "\n",
    "def get_content_value(row_data):\n",
    "    if row_data.find(\"li\"):\n",
    "        return[li.get_text(\" \", strip =True).replace(\"\\xa0\",\" \") for li in row_data.find_all(\"li\")]\n",
    "  \n",
    "    else:\n",
    "        return row_data.get_text(\" \", strip =True).replace(\"\\xa0\",\" \")\n",
    "\n",
    "movie_info = {}\n",
    "for index, row in enumerate(info_rows):\n",
    "    if index == 0:\n",
    "        movie_info['title'] = row.find(\"th\").get_text(\" \", strip =True)\n",
    "    elif index == 1:\n",
    "        continue\n",
    "    else:\n",
    "        content_key = row.find(\"th\").get_text(\" \", strip =True)\n",
    "        content_value = get_content_value(row.find(\"td\"))\n",
    "        movie_info[content_key] = content_value\n",
    "        \n",
    "#print(movie_info)\n",
    "#print(type(movie_info))\n",
    "#print(len(movie_info))\n",
    "#print(movie_info)\n",
    "#Creating Data Frame\n",
    "import pandas as pd\n",
    "df = pd.DataFrame.from_dict(movie_info, orient = 'index')\n",
    "#df = df.transpose()\n",
    "#print(len(df))\n",
    "#print(df.shape)\n",
    "# Creating csv file\n",
    "a = pd.DataFrame(df)\n",
    "a.to_csv('toy_story_3.csv')\n",
    "fb = pd.read_csv('toy_story_3.csv')\n",
    "#print(fb.head)\n",
    "print(fb)"
   ]
  },
  {
   "cell_type": "code",
   "execution_count": null,
   "id": "a2e57277",
   "metadata": {},
   "outputs": [],
   "source": []
  }
 ],
 "metadata": {
  "kernelspec": {
   "display_name": "Python 3",
   "language": "python",
   "name": "python3"
  },
  "language_info": {
   "codemirror_mode": {
    "name": "ipython",
    "version": 3
   },
   "file_extension": ".py",
   "mimetype": "text/x-python",
   "name": "python",
   "nbconvert_exporter": "python",
   "pygments_lexer": "ipython3",
   "version": "3.8.8"
  }
 },
 "nbformat": 4,
 "nbformat_minor": 5
}
